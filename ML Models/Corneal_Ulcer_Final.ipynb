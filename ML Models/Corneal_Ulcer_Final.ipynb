{
 "cells": [
  {
   "cell_type": "code",
   "execution_count": 1,
   "id": "8a3079e5",
   "metadata": {},
   "outputs": [],
   "source": [
    "import os\n",
    "import shutil\n",
    "import pandas as pd"
   ]
  },
  {
   "cell_type": "code",
   "execution_count": 2,
   "id": "acacc696",
   "metadata": {},
   "outputs": [],
   "source": [
    "c_file=\"D:/Project/Datasets/Corneal-Ulcer/dataset/labels.csv\"\n",
    "img_dir=\"D:/Project/Datasets/Corneal-Ulcer/dataset/images\"\n",
    "n_dir=\"D:/Project/Datasets/Corneal-Ulcer-detection/Negative\"\n",
    "p_dir=\"D:/Project/Datasets/Corneal-Ulcer-detection/Positive\""
   ]
  },
  {
   "cell_type": "code",
   "execution_count": 3,
   "id": "e155a119",
   "metadata": {},
   "outputs": [],
   "source": [
    "os.makedirs(n_dir, exist_ok=True)\n",
    "os.makedirs(p_dir, exist_ok=True)"
   ]
  },
  {
   "cell_type": "code",
   "execution_count": 4,
   "id": "f08c3198",
   "metadata": {},
   "outputs": [],
   "source": [
    "df_imgs=pd.read_csv(c_file)"
   ]
  },
  {
   "cell_type": "code",
   "execution_count": 5,
   "id": "59181c8f",
   "metadata": {},
   "outputs": [
    {
     "data": {
      "text/html": [
       "<div>\n",
       "<style scoped>\n",
       "    .dataframe tbody tr th:only-of-type {\n",
       "        vertical-align: middle;\n",
       "    }\n",
       "\n",
       "    .dataframe tbody tr th {\n",
       "        vertical-align: top;\n",
       "    }\n",
       "\n",
       "    .dataframe thead th {\n",
       "        text-align: right;\n",
       "    }\n",
       "</style>\n",
       "<table border=\"1\" class=\"dataframe\">\n",
       "  <thead>\n",
       "    <tr style=\"text-align: right;\">\n",
       "      <th></th>\n",
       "      <th>name</th>\n",
       "      <th>category</th>\n",
       "      <th>type</th>\n",
       "      <th>grade</th>\n",
       "    </tr>\n",
       "  </thead>\n",
       "  <tbody>\n",
       "    <tr>\n",
       "      <th>0</th>\n",
       "      <td>1.jpg</td>\n",
       "      <td>0</td>\n",
       "      <td>4</td>\n",
       "      <td>3</td>\n",
       "    </tr>\n",
       "    <tr>\n",
       "      <th>1</th>\n",
       "      <td>2.jpg</td>\n",
       "      <td>0</td>\n",
       "      <td>4</td>\n",
       "      <td>3</td>\n",
       "    </tr>\n",
       "    <tr>\n",
       "      <th>2</th>\n",
       "      <td>3.jpg</td>\n",
       "      <td>0</td>\n",
       "      <td>2</td>\n",
       "      <td>2</td>\n",
       "    </tr>\n",
       "    <tr>\n",
       "      <th>3</th>\n",
       "      <td>4.jpg</td>\n",
       "      <td>0</td>\n",
       "      <td>2</td>\n",
       "      <td>1</td>\n",
       "    </tr>\n",
       "    <tr>\n",
       "      <th>4</th>\n",
       "      <td>5.jpg</td>\n",
       "      <td>0</td>\n",
       "      <td>1</td>\n",
       "      <td>3</td>\n",
       "    </tr>\n",
       "  </tbody>\n",
       "</table>\n",
       "</div>"
      ],
      "text/plain": [
       "    name  category  type  grade\n",
       "0  1.jpg         0     4      3\n",
       "1  2.jpg         0     4      3\n",
       "2  3.jpg         0     2      2\n",
       "3  4.jpg         0     2      1\n",
       "4  5.jpg         0     1      3"
      ]
     },
     "execution_count": 5,
     "metadata": {},
     "output_type": "execute_result"
    }
   ],
   "source": [
    "df_imgs.head()"
   ]
  },
  {
   "cell_type": "code",
   "execution_count": 6,
   "id": "98ea387a",
   "metadata": {},
   "outputs": [
    {
     "name": "stdout",
     "output_type": "stream",
     "text": [
      "Images categorized\n"
     ]
    }
   ],
   "source": [
    "for index,row in df_imgs.iterrows():\n",
    "    img_name, category=row[\"name\"],row[\"category\"]\n",
    "    img_path=os.path.join(img_dir,img_name)\n",
    "    if category==0:\n",
    "        shutil.move(img_path,os.path.join(n_dir,img_name))\n",
    "    else:\n",
    "        shutil.move(img_path, os.path.join(p_dir, img_name))\n",
    "print(\"Images categorized\")"
   ]
  },
  {
   "cell_type": "code",
   "execution_count": 7,
   "id": "9afe5db3",
   "metadata": {},
   "outputs": [],
   "source": [
    "import matplotlib.pyplot as plt"
   ]
  },
  {
   "cell_type": "code",
   "execution_count": 8,
   "id": "7d888126",
   "metadata": {},
   "outputs": [],
   "source": [
    "n_count=len(os.listdir(n_dir))\n",
    "p_count=len(os.listdir(p_dir))"
   ]
  },
  {
   "cell_type": "code",
   "execution_count": 9,
   "id": "19e53e8f",
   "metadata": {},
   "outputs": [
    {
     "data": {
      "image/png": "[encoded data removed]",
      "text/plain": [
       "<Figure size 640x480 with 1 Axes>"
      ]
     },
     "metadata": {},
     "output_type": "display_data"
    }
   ],
   "source": [
    "categories=[\"Negative\",\"Positive\"]\n",
    "counts=[n_count,p_count]\n",
    "plt.bar(categories,counts,color=[\"red\",\"green\"])\n",
    "plt.xlabel=('categories')\n",
    "plt.ylabes=('Number of Images')\n",
    "plt.title('Images in Each Category')\n",
    "plt.show()"
   ]
  },
  {
   "cell_type": "code",
   "execution_count": 10,
   "id": "3a4a94b1",
   "metadata": {},
   "outputs": [],
   "source": [
    "import splitfolders\n",
    "import pathlib"
   ]
  },
  {
   "cell_type": "code",
   "execution_count": 12,
   "id": "1ae33457",
   "metadata": {},
   "outputs": [
    {
     "name": "stderr",
     "output_type": "stream",
     "text": [
      "Copying files: 712 files [00:16, 43.20 files/s]\n"
     ]
    }
   ],
   "source": [
    "base_dir=\"D:/Project/Datasets/Corneal-Ulcer Detection\"\n",
    "base_dir=pathlib.Path(base_dir)\n",
    "img_height=1028\n",
    "img_width=728\n",
    "batch_size=32\n",
    "output_path=\"D:/Project/Datasets/Corneal-Ulcer Detection\"\n",
    "splitfolders.ratio(base_dir,output=output_path,seed=1337,ratio=(.8,.1,.1),group_prefix=None)"
   ]
  },
  {
   "cell_type": "code",
   "execution_count": 13,
   "id": "743198dd",
   "metadata": {},
   "outputs": [],
   "source": [
    "train_dir=\"D:/Project/Datasets/Corneal-Ulcer Detection/train\"\n",
    "val_dir=\"D:/Project/Datasets/Corneal-Ulcer Detection/val\"\n",
    "test_dir=\"D:/Project/Datasets/Corneal-Ulcer Detection/test\"\n",
    "img_size=(256,256)\n",
    "batch_size=32"
   ]
  },
  {
   "cell_type": "code",
   "execution_count": 15,
   "id": "39c2ee13",
   "metadata": {},
   "outputs": [],
   "source": [
    "import tensorflow as tf\n",
    "from tensorflow.keras.preprocessing.image import ImageDataGenerator\n",
    "from tensorflow.keras.models import Sequential\n",
    "from tensorflow.keras import backend as K\n",
    "from tensorflow.keras.layers import Conv2D, MaxPooling2D, Flatten, Dense, BatchNormalization, Dropout,Input,Lambda, Concatenate\n",
    "from tensorflow.keras.callbacks import EarlyStopping\n",
    "from tensorflow.keras.preprocessing import image\n",
    "from tensorflow.keras import optimizers, losses\n",
    "from keras import regularizers"
   ]
  },
  {
   "cell_type": "code",
   "execution_count": 16,
   "id": "71eb9aea",
   "metadata": {},
   "outputs": [
    {
     "name": "stdout",
     "output_type": "stream",
     "text": [
      "Found 569 images belonging to 2 classes.\n",
      "Found 70 images belonging to 2 classes.\n",
      "Found 73 images belonging to 2 classes.\n"
     ]
    }
   ],
   "source": [
    "data_gen = ImageDataGenerator(\n",
    "    rescale=1./255,\n",
    "    rotation_range=40,\n",
    "    width_shift_range=0.2,\n",
    "    height_shift_range=0.2,\n",
    "    shear_range=0.15,\n",
    "    zoom_range=0.15,\n",
    "    horizontal_flip=True,\n",
    "    fill_mode='nearest'\n",
    ")\n",
    "\n",
    "train_generator = data_gen.flow_from_directory(\n",
    "    train_dir,\n",
    "    target_size=img_size,\n",
    "    batch_size=batch_size,\n",
    "    class_mode='binary',\n",
    "    shuffle=True\n",
    ")\n",
    "\n",
    "validation_generator = data_gen.flow_from_directory(\n",
    "    val_dir,\n",
    "    target_size=img_size,\n",
    "    batch_size=batch_size,\n",
    "    class_mode='binary',\n",
    ")\n",
    "\n",
    "test_generator = data_gen.flow_from_directory(\n",
    "    test_dir,\n",
    "    target_size=img_size,\n",
    "    batch_size=batch_size,\n",
    "    class_mode='binary',\n",
    ")"
   ]
  },
  {
   "cell_type": "code",
   "execution_count": 17,
   "id": "5b866f43",
   "metadata": {},
   "outputs": [
    {
     "data": {
      "text/plain": [
       "{'Negative': 0, 'Positive': 1}"
      ]
     },
     "execution_count": 17,
     "metadata": {},
     "output_type": "execute_result"
    }
   ],
   "source": [
    "train_generator.class_indices"
   ]
  },
  {
   "cell_type": "code",
   "execution_count": 19,
   "id": "b8e099ac",
   "metadata": {},
   "outputs": [],
   "source": [
    "model = Sequential()\n",
    "\n",
    "model.add(Conv2D(32, (3, 3), input_shape=(256, 256, 3), activation='relu'))\n",
    "model.add(MaxPooling2D(pool_size=(2, 2)))\n",
    "model.add(BatchNormalization())\n",
    "\n",
    "model.add(Conv2D(64, (3, 3), activation='relu'))\n",
    "model.add(MaxPooling2D(pool_size=(2, 2)))\n",
    "model.add(BatchNormalization())\n",
    "\n",
    "model.add(Conv2D(128, (3, 3), activation='relu'))\n",
    "model.add(MaxPooling2D(pool_size=(2, 2)))\n",
    "model.add(BatchNormalization())\n",
    "\n",
    "model.add(Conv2D(256, (3, 3), activation='relu'))\n",
    "model.add(MaxPooling2D(pool_size=(2, 2)))\n",
    "model.add(BatchNormalization())\n",
    "\n",
    "model.add(Flatten())\n",
    "\n",
    "model.add(Dense(256, activation='relu', kernel_regularizer=regularizers.l2(0.01)))\n",
    "model.add(Dropout(0.25))\n",
    "\n",
    "model.add(Dense(128, activation='relu', kernel_regularizer=regularizers.l2(0.01)))\n",
    "model.add(Dropout(0.25))\n",
    "\n",
    "model.add(Dense(1, activation=\"sigmoid\"))"
   ]
  },
  {
   "cell_type": "code",
   "execution_count": 20,
   "id": "7f1390b2",
   "metadata": {},
   "outputs": [],
   "source": [
    "optimizer = tf.keras.optimizers.legacy.Adam()\n",
    "model.compile(optimizer=optimizer, loss='binary_crossentropy', metrics=['accuracy'])\n",
    "early_stopping = EarlyStopping(monitor='val_loss', patience=5, restore_best_weights=True)"
   ]
  },
  {
   "cell_type": "code",
   "execution_count": 21,
   "id": "24e963e4",
   "metadata": {},
   "outputs": [
    {
     "name": "stdout",
     "output_type": "stream",
     "text": [
      "Model: \"sequential_1\"\n",
      "_________________________________________________________________\n",
      " Layer (type)                Output Shape              Param #   \n",
      "=================================================================\n",
      " conv2d_4 (Conv2D)           (None, 254, 254, 32)      896       \n",
      "                                                                 \n",
      " max_pooling2d_4 (MaxPoolin  (None, 127, 127, 32)      0         \n",
      " g2D)                                                            \n",
      "                                                                 \n",
      " batch_normalization_4 (Bat  (None, 127, 127, 32)      128       \n",
      " chNormalization)                                                \n",
      "                                                                 \n",
      " conv2d_5 (Conv2D)           (None, 125, 125, 64)      18496     \n",
      "                                                                 \n",
      " max_pooling2d_5 (MaxPoolin  (None, 62, 62, 64)        0         \n",
      " g2D)                                                            \n",
      "                                                                 \n",
      " batch_normalization_5 (Bat  (None, 62, 62, 64)        256       \n",
      " chNormalization)                                                \n",
      "                                                                 \n",
      " conv2d_6 (Conv2D)           (None, 60, 60, 128)       73856     \n",
      "                                                                 \n",
      " max_pooling2d_6 (MaxPoolin  (None, 30, 30, 128)       0         \n",
      " g2D)                                                            \n",
      "                                                                 \n",
      " batch_normalization_6 (Bat  (None, 30, 30, 128)       512       \n",
      " chNormalization)                                                \n",
      "                                                                 \n",
      " conv2d_7 (Conv2D)           (None, 28, 28, 256)       295168    \n",
      "                                                                 \n",
      " max_pooling2d_7 (MaxPoolin  (None, 14, 14, 256)       0         \n",
      " g2D)                                                            \n",
      "                                                                 \n",
      " batch_normalization_7 (Bat  (None, 14, 14, 256)       1024      \n",
      " chNormalization)                                                \n",
      "                                                                 \n",
      " flatten_1 (Flatten)         (None, 50176)             0         \n",
      "                                                                 \n",
      " dense_3 (Dense)             (None, 256)               12845312  \n",
      "                                                                 \n",
      " dropout_2 (Dropout)         (None, 256)               0         \n",
      "                                                                 \n",
      " dense_4 (Dense)             (None, 128)               32896     \n",
      "                                                                 \n",
      " dropout_3 (Dropout)         (None, 128)               0         \n",
      "                                                                 \n",
      " dense_5 (Dense)             (None, 1)                 129       \n",
      "                                                                 \n",
      "=================================================================\n",
      "Total params: 13268673 (50.62 MB)\n",
      "Trainable params: 13267713 (50.61 MB)\n",
      "Non-trainable params: 960 (3.75 KB)\n",
      "_________________________________________________________________\n"
     ]
    }
   ],
   "source": [
    "model.summary()"
   ]
  },
  {
   "cell_type": "code",
   "execution_count": 23,
   "id": "e79d9588",
   "metadata": {},
   "outputs": [
    {
     "name": "stdout",
     "output_type": "stream",
     "text": [
      "Epoch 1/150\n",
      "18/18 [==============================] - 57s 3s/step - loss: 12.4310 - accuracy: 0.6520 - val_loss: 14.9132 - val_accuracy: 0.5312\n",
      "Epoch 2/150\n",
      "18/18 [==============================] - 56s 3s/step - loss: 11.4666 - accuracy: 0.7012 - val_loss: 14.0889 - val_accuracy: 0.5000\n",
      "Epoch 3/150\n",
      "18/18 [==============================] - 57s 3s/step - loss: 10.9891 - accuracy: 0.6749 - val_loss: 19.5431 - val_accuracy: 0.5312\n",
      "Epoch 4/150\n",
      "18/18 [==============================] - 56s 3s/step - loss: 10.2364 - accuracy: 0.6872 - val_loss: 24.0972 - val_accuracy: 0.4688\n",
      "Epoch 5/150\n",
      "18/18 [==============================] - 50s 3s/step - loss: 9.2185 - accuracy: 0.7469 - val_loss: 17.7937 - val_accuracy: 0.5000\n",
      "Epoch 6/150\n",
      "18/18 [==============================] - 46s 3s/step - loss: 8.0566 - accuracy: 0.7311 - val_loss: 15.2337 - val_accuracy: 0.5000\n",
      "Epoch 7/150\n",
      "18/18 [==============================] - 47s 3s/step - loss: 7.1525 - accuracy: 0.7399 - val_loss: 13.3000 - val_accuracy: 0.4844\n",
      "Epoch 8/150\n",
      "18/18 [==============================] - 47s 3s/step - loss: 6.3340 - accuracy: 0.7047 - val_loss: 6.7723 - val_accuracy: 0.5000\n",
      "Epoch 9/150\n",
      "18/18 [==============================] - 47s 3s/step - loss: 5.7377 - accuracy: 0.6960 - val_loss: 7.7029 - val_accuracy: 0.5000\n",
      "Epoch 10/150\n",
      "18/18 [==============================] - 48s 3s/step - loss: 5.0937 - accuracy: 0.6942 - val_loss: 7.2499 - val_accuracy: 0.4688\n",
      "Epoch 11/150\n",
      "18/18 [==============================] - 47s 3s/step - loss: 4.4598 - accuracy: 0.7610 - val_loss: 6.6719 - val_accuracy: 0.5000\n",
      "Epoch 12/150\n",
      "18/18 [==============================] - 48s 3s/step - loss: 3.9616 - accuracy: 0.7434 - val_loss: 7.5899 - val_accuracy: 0.5000\n",
      "Epoch 13/150\n",
      "18/18 [==============================] - 51s 3s/step - loss: 3.5092 - accuracy: 0.7768 - val_loss: 8.3747 - val_accuracy: 0.5156\n",
      "Epoch 14/150\n",
      "18/18 [==============================] - 49s 3s/step - loss: 3.1245 - accuracy: 0.7663 - val_loss: 7.0521 - val_accuracy: 0.4844\n",
      "Epoch 15/150\n",
      "18/18 [==============================] - 47s 3s/step - loss: 2.9030 - accuracy: 0.7786 - val_loss: 5.2135 - val_accuracy: 0.4688\n",
      "Epoch 16/150\n",
      "18/18 [==============================] - 50s 3s/step - loss: 2.7394 - accuracy: 0.7557 - val_loss: 5.2404 - val_accuracy: 0.5312\n",
      "Epoch 17/150\n",
      "18/18 [==============================] - 48s 3s/step - loss: 2.6014 - accuracy: 0.7663 - val_loss: 3.7777 - val_accuracy: 0.5000\n",
      "Epoch 18/150\n",
      "18/18 [==============================] - 51s 3s/step - loss: 2.4517 - accuracy: 0.7909 - val_loss: 3.7810 - val_accuracy: 0.5000\n",
      "Epoch 19/150\n",
      "18/18 [==============================] - 51s 3s/step - loss: 2.4007 - accuracy: 0.7961 - val_loss: 3.2196 - val_accuracy: 0.5156\n",
      "Epoch 20/150\n",
      "18/18 [==============================] - 49s 3s/step - loss: 2.2934 - accuracy: 0.7996 - val_loss: 2.7875 - val_accuracy: 0.5938\n",
      "Epoch 21/150\n",
      "18/18 [==============================] - 51s 3s/step - loss: 2.2845 - accuracy: 0.7786 - val_loss: 3.6859 - val_accuracy: 0.4531\n",
      "Epoch 22/150\n",
      "18/18 [==============================] - 51s 3s/step - loss: 2.3290 - accuracy: 0.7803 - val_loss: 3.1427 - val_accuracy: 0.5156\n",
      "Epoch 23/150\n",
      "18/18 [==============================] - 52s 3s/step - loss: 2.3133 - accuracy: 0.7733 - val_loss: 2.8620 - val_accuracy: 0.5469\n",
      "Epoch 24/150\n",
      "18/18 [==============================] - 51s 3s/step - loss: 2.2420 - accuracy: 0.7944 - val_loss: 2.6757 - val_accuracy: 0.5938\n",
      "Epoch 25/150\n",
      "18/18 [==============================] - 51s 3s/step - loss: 2.1595 - accuracy: 0.7838 - val_loss: 2.3611 - val_accuracy: 0.6562\n",
      "Epoch 26/150\n",
      "18/18 [==============================] - 50s 3s/step - loss: 2.0277 - accuracy: 0.7979 - val_loss: 2.1537 - val_accuracy: 0.7188\n",
      "Epoch 27/150\n",
      "18/18 [==============================] - 51s 3s/step - loss: 1.9107 - accuracy: 0.8225 - val_loss: 2.2612 - val_accuracy: 0.6562\n",
      "Epoch 28/150\n",
      "18/18 [==============================] - 52s 3s/step - loss: 1.8150 - accuracy: 0.8243 - val_loss: 2.0242 - val_accuracy: 0.7188\n",
      "Epoch 29/150\n",
      "18/18 [==============================] - 51s 3s/step - loss: 1.8055 - accuracy: 0.8067 - val_loss: 1.9729 - val_accuracy: 0.7031\n",
      "Epoch 30/150\n",
      "18/18 [==============================] - 52s 3s/step - loss: 1.7735 - accuracy: 0.8067 - val_loss: 1.8716 - val_accuracy: 0.7812\n",
      "Epoch 31/150\n",
      "18/18 [==============================] - 53s 3s/step - loss: 1.8462 - accuracy: 0.8032 - val_loss: 1.9011 - val_accuracy: 0.7656\n",
      "Epoch 32/150\n",
      "18/18 [==============================] - 55s 3s/step - loss: 1.8478 - accuracy: 0.8084 - val_loss: 1.8846 - val_accuracy: 0.7344\n",
      "Epoch 33/150\n",
      "18/18 [==============================] - 52s 3s/step - loss: 1.8003 - accuracy: 0.8067 - val_loss: 1.7568 - val_accuracy: 0.7344\n",
      "Epoch 34/150\n",
      "18/18 [==============================] - 50s 3s/step - loss: 1.7201 - accuracy: 0.8313 - val_loss: 2.0145 - val_accuracy: 0.7500\n",
      "Epoch 35/150\n",
      "18/18 [==============================] - 50s 3s/step - loss: 1.7099 - accuracy: 0.7979 - val_loss: 1.7363 - val_accuracy: 0.8125\n",
      "Epoch 36/150\n",
      "18/18 [==============================] - 52s 3s/step - loss: 1.6853 - accuracy: 0.8295 - val_loss: 1.7246 - val_accuracy: 0.8125\n",
      "Epoch 37/150\n",
      "18/18 [==============================] - 52s 3s/step - loss: 1.6719 - accuracy: 0.8295 - val_loss: 1.6907 - val_accuracy: 0.8125\n",
      "Epoch 38/150\n",
      "18/18 [==============================] - 51s 3s/step - loss: 1.6316 - accuracy: 0.8243 - val_loss: 1.6206 - val_accuracy: 0.7969\n",
      "Epoch 39/150\n",
      "18/18 [==============================] - 50s 3s/step - loss: 1.5689 - accuracy: 0.7926 - val_loss: 1.6072 - val_accuracy: 0.7500\n",
      "Epoch 40/150\n",
      "18/18 [==============================] - 50s 3s/step - loss: 1.5107 - accuracy: 0.8155 - val_loss: 1.5523 - val_accuracy: 0.7969\n",
      "Epoch 41/150\n",
      "18/18 [==============================] - 50s 3s/step - loss: 1.4476 - accuracy: 0.8436 - val_loss: 1.4836 - val_accuracy: 0.8281\n",
      "Epoch 42/150\n",
      "18/18 [==============================] - 50s 3s/step - loss: 1.4380 - accuracy: 0.8137 - val_loss: 1.4514 - val_accuracy: 0.7969\n",
      "Epoch 43/150\n",
      "18/18 [==============================] - 49s 3s/step - loss: 1.4072 - accuracy: 0.8172 - val_loss: 1.4421 - val_accuracy: 0.7812\n",
      "Epoch 44/150\n",
      "18/18 [==============================] - 50s 3s/step - loss: 1.3852 - accuracy: 0.8348 - val_loss: 1.4853 - val_accuracy: 0.8125\n",
      "Epoch 45/150\n",
      "18/18 [==============================] - 50s 3s/step - loss: 1.3778 - accuracy: 0.8172 - val_loss: 1.4227 - val_accuracy: 0.7812\n",
      "Epoch 46/150\n",
      "18/18 [==============================] - 50s 3s/step - loss: 1.3637 - accuracy: 0.8225 - val_loss: 1.4474 - val_accuracy: 0.8281\n",
      "Epoch 47/150\n",
      "18/18 [==============================] - 50s 3s/step - loss: 1.3518 - accuracy: 0.8453 - val_loss: 1.5453 - val_accuracy: 0.7500\n",
      "Epoch 48/150\n",
      "18/18 [==============================] - 50s 3s/step - loss: 1.3460 - accuracy: 0.8067 - val_loss: 1.3757 - val_accuracy: 0.7812\n",
      "Epoch 49/150\n",
      "18/18 [==============================] - 48s 3s/step - loss: 1.2824 - accuracy: 0.8102 - val_loss: 1.2720 - val_accuracy: 0.8125\n",
      "Epoch 50/150\n",
      "18/18 [==============================] - 51s 3s/step - loss: 1.2846 - accuracy: 0.8348 - val_loss: 1.4073 - val_accuracy: 0.7812\n",
      "Epoch 51/150\n",
      "18/18 [==============================] - 50s 3s/step - loss: 1.3362 - accuracy: 0.8243 - val_loss: 1.4482 - val_accuracy: 0.7812\n",
      "Epoch 52/150\n",
      "18/18 [==============================] - 50s 3s/step - loss: 1.3868 - accuracy: 0.8453 - val_loss: 1.4661 - val_accuracy: 0.7969\n",
      "Epoch 53/150\n",
      "18/18 [==============================] - 50s 3s/step - loss: 1.4263 - accuracy: 0.8243 - val_loss: 1.5284 - val_accuracy: 0.7812\n",
      "Epoch 54/150\n",
      "18/18 [==============================] - 50s 3s/step - loss: 1.3761 - accuracy: 0.8313 - val_loss: 1.5420 - val_accuracy: 0.7344\n",
      "Epoch 55/150\n",
      "18/18 [==============================] - 50s 3s/step - loss: 1.2940 - accuracy: 0.8225 - val_loss: 1.3494 - val_accuracy: 0.7812\n",
      "Epoch 56/150\n",
      "18/18 [==============================] - 49s 3s/step - loss: 1.2468 - accuracy: 0.8295 - val_loss: 1.2796 - val_accuracy: 0.7969\n",
      "Epoch 57/150\n",
      "18/18 [==============================] - 50s 3s/step - loss: 1.1698 - accuracy: 0.8418 - val_loss: 1.2634 - val_accuracy: 0.7656\n",
      "Epoch 58/150\n",
      "18/18 [==============================] - 49s 3s/step - loss: 1.1594 - accuracy: 0.8225 - val_loss: 1.2416 - val_accuracy: 0.8281\n"
     ]
    },
    {
     "name": "stdout",
     "output_type": "stream",
     "text": [
      "Epoch 59/150\n",
      "18/18 [==============================] - 50s 3s/step - loss: 1.1850 - accuracy: 0.8471 - val_loss: 1.2799 - val_accuracy: 0.7656\n",
      "Epoch 60/150\n",
      "18/18 [==============================] - 50s 3s/step - loss: 1.1746 - accuracy: 0.8172 - val_loss: 1.1447 - val_accuracy: 0.8750\n",
      "Epoch 61/150\n",
      "18/18 [==============================] - 50s 3s/step - loss: 1.1341 - accuracy: 0.8348 - val_loss: 1.2061 - val_accuracy: 0.8281\n",
      "Epoch 62/150\n",
      "18/18 [==============================] - 51s 3s/step - loss: 1.1495 - accuracy: 0.8155 - val_loss: 1.1074 - val_accuracy: 0.8594\n",
      "Epoch 63/150\n",
      "18/18 [==============================] - 52s 3s/step - loss: 1.0810 - accuracy: 0.8401 - val_loss: 1.2521 - val_accuracy: 0.7500\n",
      "Epoch 64/150\n",
      "18/18 [==============================] - 56s 3s/step - loss: 1.0509 - accuracy: 0.8366 - val_loss: 1.1183 - val_accuracy: 0.8281\n",
      "Epoch 65/150\n",
      "18/18 [==============================] - 50s 3s/step - loss: 1.0555 - accuracy: 0.8541 - val_loss: 1.1676 - val_accuracy: 0.7656\n",
      "Epoch 66/150\n",
      "18/18 [==============================] - 50s 3s/step - loss: 1.0646 - accuracy: 0.8436 - val_loss: 1.0713 - val_accuracy: 0.8281\n",
      "Epoch 67/150\n",
      "18/18 [==============================] - 52s 3s/step - loss: 1.0304 - accuracy: 0.8366 - val_loss: 1.0650 - val_accuracy: 0.8125\n",
      "Epoch 68/150\n",
      "18/18 [==============================] - 51s 3s/step - loss: 0.9833 - accuracy: 0.8524 - val_loss: 1.1142 - val_accuracy: 0.8438\n",
      "Epoch 69/150\n",
      "18/18 [==============================] - 51s 3s/step - loss: 1.0029 - accuracy: 0.8295 - val_loss: 1.0708 - val_accuracy: 0.8125\n",
      "Epoch 70/150\n",
      "18/18 [==============================] - 50s 3s/step - loss: 0.9929 - accuracy: 0.8629 - val_loss: 1.2441 - val_accuracy: 0.7500\n",
      "Epoch 71/150\n",
      "18/18 [==============================] - 49s 3s/step - loss: 0.9801 - accuracy: 0.8541 - val_loss: 0.9899 - val_accuracy: 0.8281\n",
      "Epoch 72/150\n",
      "18/18 [==============================] - 50s 3s/step - loss: 0.9525 - accuracy: 0.8453 - val_loss: 1.0693 - val_accuracy: 0.7969\n",
      "Epoch 73/150\n",
      "18/18 [==============================] - 50s 3s/step - loss: 0.9176 - accuracy: 0.8418 - val_loss: 1.0139 - val_accuracy: 0.7969\n",
      "Epoch 74/150\n",
      "18/18 [==============================] - 49s 3s/step - loss: 0.9397 - accuracy: 0.8436 - val_loss: 0.9637 - val_accuracy: 0.8438\n",
      "Epoch 75/150\n",
      "18/18 [==============================] - 50s 3s/step - loss: 0.9999 - accuracy: 0.8436 - val_loss: 1.6421 - val_accuracy: 0.6094\n",
      "Epoch 76/150\n",
      "18/18 [==============================] - 46s 3s/step - loss: 0.9954 - accuracy: 0.8506 - val_loss: 1.3951 - val_accuracy: 0.6875\n",
      "Epoch 77/150\n",
      "18/18 [==============================] - 46s 3s/step - loss: 1.0073 - accuracy: 0.8049 - val_loss: 1.2108 - val_accuracy: 0.7656\n",
      "Epoch 78/150\n",
      "18/18 [==============================] - 46s 3s/step - loss: 0.9020 - accuracy: 0.8594 - val_loss: 1.2852 - val_accuracy: 0.7812\n",
      "Epoch 79/150\n",
      "18/18 [==============================] - 46s 3s/step - loss: 0.8817 - accuracy: 0.8207 - val_loss: 0.9808 - val_accuracy: 0.7969\n",
      "Epoch 80/150\n",
      "18/18 [==============================] - 46s 3s/step - loss: 0.8543 - accuracy: 0.8401 - val_loss: 1.0843 - val_accuracy: 0.6875\n",
      "Epoch 81/150\n",
      "18/18 [==============================] - 46s 3s/step - loss: 0.8723 - accuracy: 0.8506 - val_loss: 0.8979 - val_accuracy: 0.8438\n",
      "Epoch 82/150\n",
      "18/18 [==============================] - 46s 3s/step - loss: 0.8823 - accuracy: 0.8559 - val_loss: 0.9187 - val_accuracy: 0.8281\n",
      "Epoch 83/150\n",
      "18/18 [==============================] - 46s 3s/step - loss: 0.8548 - accuracy: 0.8418 - val_loss: 0.8692 - val_accuracy: 0.8281\n",
      "Epoch 84/150\n",
      "18/18 [==============================] - 46s 3s/step - loss: 0.8552 - accuracy: 0.8489 - val_loss: 0.9431 - val_accuracy: 0.7500\n",
      "Epoch 85/150\n",
      "18/18 [==============================] - 46s 3s/step - loss: 0.8591 - accuracy: 0.8366 - val_loss: 0.9974 - val_accuracy: 0.7812\n",
      "Epoch 86/150\n",
      "18/18 [==============================] - 46s 3s/step - loss: 0.8226 - accuracy: 0.8524 - val_loss: 0.9388 - val_accuracy: 0.7969\n",
      "Epoch 87/150\n",
      "18/18 [==============================] - 46s 3s/step - loss: 0.8143 - accuracy: 0.8366 - val_loss: 0.8112 - val_accuracy: 0.8438\n",
      "Epoch 88/150\n",
      "18/18 [==============================] - 46s 3s/step - loss: 0.7936 - accuracy: 0.8576 - val_loss: 0.8465 - val_accuracy: 0.8125\n",
      "Epoch 89/150\n",
      "18/18 [==============================] - 46s 3s/step - loss: 0.7393 - accuracy: 0.8629 - val_loss: 0.8166 - val_accuracy: 0.8438\n",
      "Epoch 90/150\n",
      "18/18 [==============================] - 47s 3s/step - loss: 0.7245 - accuracy: 0.8699 - val_loss: 0.9028 - val_accuracy: 0.7969\n",
      "Epoch 91/150\n",
      "18/18 [==============================] - 46s 3s/step - loss: 0.8167 - accuracy: 0.8172 - val_loss: 0.9339 - val_accuracy: 0.7812\n",
      "Epoch 92/150\n",
      "18/18 [==============================] - 46s 3s/step - loss: 0.7701 - accuracy: 0.8559 - val_loss: 0.8068 - val_accuracy: 0.7969\n",
      "Epoch 93/150\n",
      "18/18 [==============================] - 46s 3s/step - loss: 0.7309 - accuracy: 0.8576 - val_loss: 0.9209 - val_accuracy: 0.7344\n",
      "Epoch 94/150\n",
      "18/18 [==============================] - 46s 3s/step - loss: 0.7166 - accuracy: 0.8453 - val_loss: 0.7310 - val_accuracy: 0.8125\n",
      "Epoch 95/150\n",
      "18/18 [==============================] - 46s 3s/step - loss: 0.7192 - accuracy: 0.8664 - val_loss: 0.7425 - val_accuracy: 0.8281\n",
      "Epoch 96/150\n",
      "18/18 [==============================] - 46s 3s/step - loss: 0.7637 - accuracy: 0.8489 - val_loss: 0.8565 - val_accuracy: 0.7656\n",
      "Epoch 97/150\n",
      "18/18 [==============================] - 45s 3s/step - loss: 0.7838 - accuracy: 0.8383 - val_loss: 0.8788 - val_accuracy: 0.8125\n",
      "Epoch 98/150\n",
      "18/18 [==============================] - 46s 3s/step - loss: 0.7948 - accuracy: 0.8260 - val_loss: 0.8372 - val_accuracy: 0.7500\n",
      "Epoch 99/150\n",
      "18/18 [==============================] - 46s 3s/step - loss: 0.7703 - accuracy: 0.8401 - val_loss: 0.8801 - val_accuracy: 0.8125\n",
      "Epoch 100/150\n",
      "18/18 [==============================] - 46s 3s/step - loss: 0.7460 - accuracy: 0.8436 - val_loss: 0.8127 - val_accuracy: 0.8281\n",
      "Epoch 101/150\n",
      "18/18 [==============================] - 46s 3s/step - loss: 0.6912 - accuracy: 0.8612 - val_loss: 0.8032 - val_accuracy: 0.7969\n",
      "Epoch 102/150\n",
      "18/18 [==============================] - 46s 3s/step - loss: 0.7182 - accuracy: 0.8576 - val_loss: 0.8194 - val_accuracy: 0.7500\n",
      "Epoch 103/150\n",
      "18/18 [==============================] - 46s 3s/step - loss: 0.6914 - accuracy: 0.8629 - val_loss: 0.7760 - val_accuracy: 0.8125\n",
      "Epoch 104/150\n",
      "18/18 [==============================] - 46s 3s/step - loss: 0.7325 - accuracy: 0.8541 - val_loss: 0.8082 - val_accuracy: 0.7969\n",
      "Epoch 105/150\n",
      "18/18 [==============================] - 46s 3s/step - loss: 0.6955 - accuracy: 0.8629 - val_loss: 0.7587 - val_accuracy: 0.8438\n",
      "Epoch 106/150\n",
      "18/18 [==============================] - 46s 3s/step - loss: 0.6742 - accuracy: 0.8559 - val_loss: 0.9385 - val_accuracy: 0.7188\n",
      "Epoch 107/150\n",
      "18/18 [==============================] - 46s 3s/step - loss: 0.6794 - accuracy: 0.8506 - val_loss: 0.8583 - val_accuracy: 0.7969\n",
      "Epoch 108/150\n",
      "18/18 [==============================] - 46s 3s/step - loss: 0.6480 - accuracy: 0.8858 - val_loss: 0.7181 - val_accuracy: 0.8594\n",
      "Epoch 109/150\n",
      "18/18 [==============================] - 46s 3s/step - loss: 0.6690 - accuracy: 0.8559 - val_loss: 0.8122 - val_accuracy: 0.8281\n",
      "Epoch 110/150\n",
      "18/18 [==============================] - 46s 3s/step - loss: 0.7364 - accuracy: 0.8313 - val_loss: 0.8470 - val_accuracy: 0.7812\n",
      "Epoch 111/150\n",
      "18/18 [==============================] - 46s 3s/step - loss: 0.7322 - accuracy: 0.8664 - val_loss: 0.8877 - val_accuracy: 0.7188\n",
      "Epoch 112/150\n",
      "18/18 [==============================] - 46s 3s/step - loss: 0.6988 - accuracy: 0.8559 - val_loss: 0.7254 - val_accuracy: 0.8125\n",
      "Epoch 113/150\n",
      "18/18 [==============================] - 46s 3s/step - loss: 0.6447 - accuracy: 0.8629 - val_loss: 0.8452 - val_accuracy: 0.7500\n",
      "Epoch 114/150\n",
      "18/18 [==============================] - 46s 3s/step - loss: 0.6554 - accuracy: 0.8559 - val_loss: 0.7364 - val_accuracy: 0.7656\n",
      "Epoch 115/150\n",
      "18/18 [==============================] - 46s 3s/step - loss: 0.6365 - accuracy: 0.8822 - val_loss: 0.8266 - val_accuracy: 0.7969\n",
      "Epoch 116/150\n",
      "18/18 [==============================] - 45s 3s/step - loss: 0.6902 - accuracy: 0.8559 - val_loss: 0.7339 - val_accuracy: 0.8906\n",
      "Epoch 117/150\n",
      "18/18 [==============================] - 46s 3s/step - loss: 0.6495 - accuracy: 0.8682 - val_loss: 0.7821 - val_accuracy: 0.8438\n",
      "Epoch 118/150\n",
      "18/18 [==============================] - 46s 3s/step - loss: 0.6239 - accuracy: 0.8506 - val_loss: 0.7568 - val_accuracy: 0.8281\n",
      "Epoch 119/150\n",
      "18/18 [==============================] - 48s 3s/step - loss: 0.6375 - accuracy: 0.8559 - val_loss: 0.6968 - val_accuracy: 0.8281\n",
      "Epoch 120/150\n",
      "18/18 [==============================] - 46s 3s/step - loss: 0.6686 - accuracy: 0.8383 - val_loss: 0.7510 - val_accuracy: 0.8125\n",
      "Epoch 121/150\n",
      "18/18 [==============================] - 46s 3s/step - loss: 0.6467 - accuracy: 0.8559 - val_loss: 0.8282 - val_accuracy: 0.7344\n",
      "Epoch 122/150\n",
      "18/18 [==============================] - 46s 3s/step - loss: 0.6509 - accuracy: 0.8330 - val_loss: 0.7040 - val_accuracy: 0.8281\n",
      "Epoch 123/150\n",
      "18/18 [==============================] - 45s 3s/step - loss: 0.6040 - accuracy: 0.8770 - val_loss: 0.7375 - val_accuracy: 0.7500\n",
      "Epoch 124/150\n",
      "18/18 [==============================] - 46s 3s/step - loss: 0.5957 - accuracy: 0.8647 - val_loss: 0.6370 - val_accuracy: 0.8281\n",
      "Epoch 125/150\n",
      "18/18 [==============================] - 46s 3s/step - loss: 0.5824 - accuracy: 0.8647 - val_loss: 0.6897 - val_accuracy: 0.7969\n",
      "Epoch 126/150\n",
      "18/18 [==============================] - 46s 3s/step - loss: 0.6347 - accuracy: 0.8717 - val_loss: 0.7125 - val_accuracy: 0.8438\n",
      "Epoch 127/150\n",
      "18/18 [==============================] - 46s 3s/step - loss: 0.6549 - accuracy: 0.8506 - val_loss: 0.7392 - val_accuracy: 0.8438\n",
      "Epoch 128/150\n",
      "18/18 [==============================] - 46s 3s/step - loss: 0.6672 - accuracy: 0.8735 - val_loss: 0.8870 - val_accuracy: 0.8438\n",
      "Epoch 129/150\n",
      "18/18 [==============================] - 46s 3s/step - loss: 0.7020 - accuracy: 0.8383 - val_loss: 0.8339 - val_accuracy: 0.7812\n",
      "Epoch 130/150\n",
      "18/18 [==============================] - 46s 3s/step - loss: 0.6480 - accuracy: 0.8664 - val_loss: 0.6786 - val_accuracy: 0.8281\n",
      "Epoch 131/150\n",
      "18/18 [==============================] - 46s 3s/step - loss: 0.6422 - accuracy: 0.8612 - val_loss: 0.7193 - val_accuracy: 0.7969\n",
      "Epoch 132/150\n",
      "18/18 [==============================] - 46s 3s/step - loss: 0.6015 - accuracy: 0.8858 - val_loss: 0.6822 - val_accuracy: 0.8750\n",
      "Epoch 133/150\n",
      "18/18 [==============================] - 46s 3s/step - loss: 0.6039 - accuracy: 0.8787 - val_loss: 0.6801 - val_accuracy: 0.8281\n",
      "Epoch 134/150\n",
      "18/18 [==============================] - 46s 3s/step - loss: 0.6779 - accuracy: 0.8541 - val_loss: 0.9368 - val_accuracy: 0.7188\n",
      "Epoch 135/150\n",
      "18/18 [==============================] - 46s 3s/step - loss: 0.6654 - accuracy: 0.8770 - val_loss: 0.8872 - val_accuracy: 0.7500\n",
      "Epoch 136/150\n",
      "18/18 [==============================] - 46s 3s/step - loss: 0.6536 - accuracy: 0.8559 - val_loss: 0.8882 - val_accuracy: 0.7188\n",
      "Epoch 137/150\n",
      "18/18 [==============================] - 50s 3s/step - loss: 0.6359 - accuracy: 0.8682 - val_loss: 0.8506 - val_accuracy: 0.7656\n",
      "Epoch 138/150\n",
      "18/18 [==============================] - 50s 3s/step - loss: 0.6133 - accuracy: 0.8752 - val_loss: 0.6636 - val_accuracy: 0.8594\n",
      "Epoch 139/150\n",
      "18/18 [==============================] - 51s 3s/step - loss: 0.6174 - accuracy: 0.8822 - val_loss: 0.7454 - val_accuracy: 0.8438\n",
      "Epoch 140/150\n",
      "18/18 [==============================] - 50s 3s/step - loss: 0.5928 - accuracy: 0.8875 - val_loss: 0.7291 - val_accuracy: 0.8438\n",
      "Epoch 141/150\n",
      "18/18 [==============================] - 51s 3s/step - loss: 0.5769 - accuracy: 0.8858 - val_loss: 0.9060 - val_accuracy: 0.7500\n",
      "Epoch 142/150\n",
      "18/18 [==============================] - 52s 3s/step - loss: 0.6572 - accuracy: 0.8699 - val_loss: 0.7042 - val_accuracy: 0.7969\n",
      "Epoch 143/150\n",
      "18/18 [==============================] - 51s 3s/step - loss: 0.5997 - accuracy: 0.8787 - val_loss: 0.6586 - val_accuracy: 0.8906\n",
      "Epoch 144/150\n",
      "18/18 [==============================] - 48s 3s/step - loss: 0.6013 - accuracy: 0.8664 - val_loss: 0.7659 - val_accuracy: 0.8281\n",
      "Epoch 145/150\n",
      "18/18 [==============================] - 46s 3s/step - loss: 0.5988 - accuracy: 0.8682 - val_loss: 0.7886 - val_accuracy: 0.8906\n",
      "Epoch 146/150\n",
      "18/18 [==============================] - 46s 3s/step - loss: 0.6689 - accuracy: 0.8770 - val_loss: 0.8118 - val_accuracy: 0.8281\n",
      "Epoch 147/150\n",
      "18/18 [==============================] - 46s 3s/step - loss: 0.6544 - accuracy: 0.8770 - val_loss: 0.8087 - val_accuracy: 0.8281\n",
      "Epoch 148/150\n",
      "18/18 [==============================] - 46s 3s/step - loss: 0.6263 - accuracy: 0.8910 - val_loss: 1.1846 - val_accuracy: 0.6406\n",
      "Epoch 149/150\n",
      "18/18 [==============================] - 46s 3s/step - loss: 0.7413 - accuracy: 0.8418 - val_loss: 0.9897 - val_accuracy: 0.7344\n",
      "Epoch 150/150\n",
      "18/18 [==============================] - 46s 3s/step - loss: 0.6544 - accuracy: 0.8858 - val_loss: 0.7619 - val_accuracy: 0.8594\n"
     ]
    }
   ],
   "source": [
    "history = model.fit(\n",
    "    train_generator,\n",
    "    steps_per_epoch=int(round(569/32)),\n",
    "    epochs=150,\n",
    "    validation_data=validation_generator,\n",
    "    validation_steps=int(round(70/32))\n",
    ")"
   ]
  },
  {
   "cell_type": "code",
   "execution_count": 24,
   "id": "41bff82e",
   "metadata": {},
   "outputs": [
    {
     "name": "stdout",
     "output_type": "stream",
     "text": [
      "3/3 [==============================] - 5s 1s/step - loss: 0.7250 - accuracy: 0.8082\n",
      "Validation Accuracy: 0.8082191944122314\n"
     ]
    }
   ],
   "source": [
    "evaluation = model.evaluate(test_generator)\n",
    "accuracy = evaluation[1]\n",
    "print(f\"Validation Accuracy: {accuracy}\")"
   ]
  },
  {
   "cell_type": "code",
   "execution_count": 25,
   "id": "cc0d0516",
   "metadata": {},
   "outputs": [
    {
     "ename": "TypeError",
     "evalue": "'str' object is not callable",
     "output_type": "error",
     "traceback": [
      "\u001b[1;31m---------------------------------------------------------------------------\u001b[0m",
      "\u001b[1;31mTypeError\u001b[0m                                 Traceback (most recent call last)",
      "Cell \u001b[1;32mIn[25], line 20\u001b[0m\n\u001b[0;32m     17\u001b[0m     plt\u001b[38;5;241m.\u001b[39mlegend([\u001b[38;5;124m'\u001b[39m\u001b[38;5;124mtrain\u001b[39m\u001b[38;5;124m'\u001b[39m, \u001b[38;5;124m'\u001b[39m\u001b[38;5;124mvalidation\u001b[39m\u001b[38;5;124m'\u001b[39m], loc\u001b[38;5;241m=\u001b[39m\u001b[38;5;124m'\u001b[39m\u001b[38;5;124mupper left\u001b[39m\u001b[38;5;124m'\u001b[39m)\n\u001b[0;32m     18\u001b[0m     plt\u001b[38;5;241m.\u001b[39mshow()\n\u001b[1;32m---> 20\u001b[0m plot_train_history(history)\n",
      "Cell \u001b[1;32mIn[25], line 8\u001b[0m, in \u001b[0;36mplot_train_history\u001b[1;34m(history)\u001b[0m\n\u001b[0;32m      6\u001b[0m plt\u001b[38;5;241m.\u001b[39mtitle(\u001b[38;5;124m'\u001b[39m\u001b[38;5;124mModel accuracy\u001b[39m\u001b[38;5;124m'\u001b[39m)\n\u001b[0;32m      7\u001b[0m plt\u001b[38;5;241m.\u001b[39mylabel(\u001b[38;5;124m'\u001b[39m\u001b[38;5;124maccuracy\u001b[39m\u001b[38;5;124m'\u001b[39m)\n\u001b[1;32m----> 8\u001b[0m plt\u001b[38;5;241m.\u001b[39mxlabel(\u001b[38;5;124m'\u001b[39m\u001b[38;5;124mepoch\u001b[39m\u001b[38;5;124m'\u001b[39m)\n\u001b[0;32m      9\u001b[0m plt\u001b[38;5;241m.\u001b[39mlegend([\u001b[38;5;124m'\u001b[39m\u001b[38;5;124mtrain\u001b[39m\u001b[38;5;124m'\u001b[39m, \u001b[38;5;124m'\u001b[39m\u001b[38;5;124mvalidation\u001b[39m\u001b[38;5;124m'\u001b[39m], loc\u001b[38;5;241m=\u001b[39m\u001b[38;5;124m'\u001b[39m\u001b[38;5;124mupper left\u001b[39m\u001b[38;5;124m'\u001b[39m)\n\u001b[0;32m     11\u001b[0m plt\u001b[38;5;241m.\u001b[39msubplot(\u001b[38;5;241m1\u001b[39m,\u001b[38;5;241m2\u001b[39m,\u001b[38;5;241m2\u001b[39m)\n",
      "\u001b[1;31mTypeError\u001b[0m: 'str' object is not callable"
     ]
    },
    {
     "data": {
      "image/png": "[encoded data removed]",
      "text/plain": [
       "<Figure size 1500x500 with 1 Axes>"
      ]
     },
     "metadata": {},
     "output_type": "display_data"
    }
   ],
   "source": [
    "def plot_train_history(history):\n",
    "    plt.figure(figsize=(15, 5))\n",
    "    \n",
    "    # Plot accuracy\n",
    "    plt.subplot(1, 2, 1)\n",
    "    plt.plot(history.history['accuracy'])\n",
    "    plt.plot(history.history['val_accuracy'])\n",
    "    plt.title('Model accuracy')\n",
    "    plt.ylabel('accuracy')\n",
    "    plt.xlabel('epoch')\n",
    "    plt.legend(['train', 'validation'], loc='upper left')\n",
    "    \n",
    "    # Plot loss\n",
    "    plt.subplot(1, 2, 2)\n",
    "    plt.plot(history.history['loss'])\n",
    "    plt.plot(history.history['val_loss'])\n",
    "    plt.title('Model loss')\n",
    "    plt.ylabel('loss')\n",
    "    plt.xlabel('epoch')\n",
    "    plt.legend(['train', 'validation'], loc='upper left')\n",
    "    \n",
    "    plt.show()\n",
    "\n",
    "# Assuming 'history' is the history object returned by model.fit()\n",
    "plot_train_history(history)\n"
   ]
  },
  {
   "cell_type": "code",
   "execution_count": 26,
   "id": "80448e7d",
   "metadata": {},
   "outputs": [
    {
     "name": "stderr",
     "output_type": "stream",
     "text": [
      "C:\\Users\\prath\\AppData\\Local\\Temp\\ipykernel_17812\\709315445.py:3: UserWarning: You are saving your model as an HDF5 file via `model.save()`. This file format is considered legacy. We recommend using instead the native Keras format, e.g. `model.save('my_model.keras')`.\n",
      "  save_model(model,model_path)\n"
     ]
    }
   ],
   "source": [
    "from tensorflow.keras.models import save_model\n",
    "model_path='D:/Project/ML/corneal_ulcer_model.h5'\n",
    "save_model(model,model_path)"
   ]
  },
  {
   "cell_type": "code",
   "execution_count": 27,
   "id": "6d3bebfd",
   "metadata": {},
   "outputs": [
    {
     "name": "stdout",
     "output_type": "stream",
     "text": [
      "Corneal Ulcer Detection Model Loaded\n"
     ]
    }
   ],
   "source": [
    "from tensorflow.keras.preprocessing.image import img_to_array, load_img\n",
    "from tensorflow.keras.models import load_model\n",
    "import numpy as np\n",
    "\n",
    "loaded_model = load_model('D:/Project/ML/corneal_ulcer_model.h5')\n",
    "print(\"Corneal Ulcer Detection Model Loaded\")\n",
    "\n",
    "def corneal_ulcer_prediction(test_image_path):\n",
    "    test_image = load_img(test_image_path, target_size=(256, 256))\n",
    "    test_image = img_to_array(test_image)\n",
    "    test_image = np.expand_dims(test_image, axis=0)\n",
    "\n",
    "    predictions = loaded_model.predict(test_image)\n",
    "\n",
    "    # Assuming the model outputs a single prediction value (0 or 1) directly\n",
    "    predicted_class = np.argmax(predictions[0])\n",
    "    \n",
    "    if predicted_class == 1:\n",
    "        print(\"Corneal Ulcer Detected\")\n",
    "    elif predicted_class == 0:\n",
    "        print(\"No Corneal Ulcer Detected\")\n",
    "    \n",
    "    return predicted_class"
   ]
  },
  {
   "cell_type": "code",
   "execution_count": null,
   "id": "566d06bc",
   "metadata": {},
   "outputs": [],
   "source": []
  }
 ],
 "metadata": {
  "kernelspec": {
   "display_name": "Python 3 (ipykernel)",
   "language": "python",
   "name": "python3"
  },
  "language_info": {
   "codemirror_mode": {
    "name": "ipython",
    "version": 3
   },
   "file_extension": ".py",
   "mimetype": "text/x-python",
   "name": "python",
   "nbconvert_exporter": "python",
   "pygments_lexer": "ipython3",
   "version": "3.11.5"
  }
 },
 "nbformat": 4,
 "nbformat_minor": 5
}
