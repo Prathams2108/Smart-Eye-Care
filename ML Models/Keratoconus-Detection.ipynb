{
 "cells": [
  {
   "cell_type": "code",
   "execution_count": 1,
   "id": "2568b36e",
   "metadata": {},
   "outputs": [],
   "source": [
    "import os \n",
    "import shutil\n",
    "import numpy as np\n",
    "import matplotlib.pyplot as plt\n",
    "import matplotlib.image as mpimg"
   ]
  },
  {
   "cell_type": "code",
   "execution_count": 3,
   "id": "9ada9359",
   "metadata": {},
   "outputs": [
    {
     "name": "stdout",
     "output_type": "stream",
     "text": [
      "1050 1050\n"
     ]
    }
   ],
   "source": [
    "print(len(os.listdir(\"D:/Project/Datasets/Keratocunus/archive-k1/Train_Validation sets/Keratoconus\")),len(os.listdir(\"D:/Project/Datasets/Keratocunus/archive-k1/Train_Validation sets/Normal\")))"
   ]
  },
  {
   "cell_type": "code",
   "execution_count": 4,
   "id": "8cb8f54f",
   "metadata": {},
   "outputs": [],
   "source": [
    "k_count=len(os.listdir(\"D:/Project/Datasets/Keratocunus/archive-k1/Train_Validation sets/Keratoconus\"))\n",
    "n_count=len(os.listdir(\"D:/Project/Datasets/Keratocunus/archive-k1/Train_Validation sets/Normal\"))"
   ]
  },
  {
   "cell_type": "code",
   "execution_count": 5,
   "id": "e4e00cfd",
   "metadata": {},
   "outputs": [
    {
     "data": {
      "image/png": "[encoded data removed]",
      "text/plain": [
       "<Figure size 640x480 with 1 Axes>"
      ]
     },
     "metadata": {},
     "output_type": "display_data"
    }
   ],
   "source": [
    "categories=[\"Keratoconus\",\"Normal\"]\n",
    "counts=[k_count,n_count]\n",
    "plt.bar(categories,counts,color=[\"red\",\"green\"])\n",
    "plt.xlabel=('categories')\n",
    "plt.ylabes=('Number of Images')\n",
    "plt.title('Images in Each Category')\n",
    "plt.show()"
   ]
  },
  {
   "cell_type": "code",
   "execution_count": 7,
   "id": "fb2580ca",
   "metadata": {},
   "outputs": [
    {
     "name": "stderr",
     "output_type": "stream",
     "text": [
      "Copying files: 2100 files [00:09, 211.41 files/s]\n"
     ]
    }
   ],
   "source": [
    "import splitfolders\n",
    "import pathlib\n",
    "\n",
    "base_dir=\"D:/Project/Datasets/Keratocunus/archive-k1/Train_Validation sets\"\n",
    "base_dir=pathlib.Path(base_dir)\n",
    "img_height=224\n",
    "img_width=224\n",
    "batch_size=32\n",
    "output_path=\"D:/Project/Datasets/Keratocunus/archive-k1/Train_Validation sets/split\"\n",
    "\n",
    "splitfolders.ratio(base_dir,output=output_path,seed=1337,ratio=(.8,.1,.1),group_prefix=None)"
   ]
  },
  {
   "cell_type": "code",
   "execution_count": 6,
   "id": "d3f8949f",
   "metadata": {},
   "outputs": [],
   "source": [
    "train_dir=\"D:/Project/Datasets/Keratocunus/archive-k1/Train_Validation sets/split/train\"\n",
    "val_dir=\"D:/Project/Datasets/Keratocunus/archive-k1/Train_Validation sets/split/val\"\n",
    "test_dir=\"D:/Project/Datasets/Keratocunus/archive-k1/Train_Validation sets/split/test\"\n",
    "img_size=(224,224)\n",
    "batch_size=32"
   ]
  },
  {
   "cell_type": "code",
   "execution_count": 9,
   "id": "25ef6580",
   "metadata": {},
   "outputs": [],
   "source": [
    "import cv2\n",
    "from sklearn.model_selection import train_test_split\n",
    "from tensorflow.keras.preprocessing.image import ImageDataGenerator\n",
    "from tensorflow.keras.models import Sequential\n",
    "from tensorflow.keras import backend as K\n",
    "from tensorflow.keras.layers import Conv2D, MaxPooling2D, Flatten, Dense, BatchNormalization, Dropout,Input,Lambda, Concatenate\n",
    "from tensorflow.keras.callbacks import EarlyStopping\n",
    "from tensorflow.keras.preprocessing import image\n",
    "from skimage import exposure, filters\n",
    "from skimage.restoration import denoise_tv_chambolle\n",
    "from keras.optimizers import Adam\n",
    "from keras import regularizers\n",
    "from sklearn.metrics import roc_curve, auc\n",
    "from itertools import cycle\n",
    "import numpy as np\n",
    "import tensorflow as tf\n",
    "import matplotlib.pyplot as plt"
   ]
  },
  {
   "cell_type": "code",
   "execution_count": 10,
   "id": "9030bf41",
   "metadata": {},
   "outputs": [
    {
     "name": "stdout",
     "output_type": "stream",
     "text": [
      "Found 1680 images belonging to 2 classes.\n",
      "Found 210 images belonging to 2 classes.\n",
      "Found 210 images belonging to 2 classes.\n"
     ]
    }
   ],
   "source": [
    "data_gen=ImageDataGenerator(\n",
    "                            rescale=1./255,\n",
    "                            rotation_range=40,\n",
    "                            width_shift_range=0.2,\n",
    "                            height_shift_range=0.2,\n",
    "                            shear_range=0.15,\n",
    "                            zoom_range=0.15,\n",
    "                            horizontal_flip=True,\n",
    "                            fill_mode='nearest')\n",
    "\n",
    "train_generator=data_gen.flow_from_directory(\n",
    "    train_dir,\n",
    "    target_size=img_size,\n",
    "    batch_size=batch_size,\n",
    "    class_mode='categorical',\n",
    "    shuffle=True,\n",
    ")\n",
    "\n",
    "validation_generator = data_gen.flow_from_directory(\n",
    "    val_dir,\n",
    "    target_size=img_size,\n",
    "    batch_size=batch_size,\n",
    "    class_mode='categorical',\n",
    ")\n",
    "test_generator = data_gen.flow_from_directory(\n",
    "    test_dir,\n",
    "    target_size=img_size,\n",
    "    batch_size=batch_size,\n",
    "    class_mode='categorical',\n",
    ")"
   ]
  },
  {
   "cell_type": "code",
   "execution_count": 11,
   "id": "6bc4ac07",
   "metadata": {},
   "outputs": [
    {
     "data": {
      "text/plain": [
       "{'Keratoconus': 0, 'Normal': 1}"
      ]
     },
     "execution_count": 11,
     "metadata": {},
     "output_type": "execute_result"
    }
   ],
   "source": [
    "train_generator.class_indices"
   ]
  },
  {
   "cell_type": "code",
   "execution_count": 13,
   "id": "5c9d3d10",
   "metadata": {},
   "outputs": [],
   "source": [
    "model=Sequential()\n",
    "model.add(Conv2D(32, (3, 3), input_shape=(224,224,3), activation='relu'))\n",
    "model.add(MaxPooling2D(pool_size=(2, 2)))\n",
    "model.add(BatchNormalization())\n",
    "\n",
    "model.add(Conv2D(64, (3, 3), activation='relu'))\n",
    "model.add(MaxPooling2D(pool_size=(2, 2)))\n",
    "model.add(BatchNormalization())\n",
    "\n",
    "model.add(Conv2D(128, (3, 3), activation='relu'))\n",
    "model.add(MaxPooling2D(pool_size=(2, 2)))\n",
    "model.add(BatchNormalization())\n",
    "\n",
    "model.add(Conv2D(256, (3, 3), activation='relu'))\n",
    "model.add(MaxPooling2D(pool_size=(2, 2)))\n",
    "model.add(BatchNormalization())\n",
    "\n",
    "model.add(Flatten())\n",
    "\n",
    "model.add(Dense(256, activation='relu', kernel_regularizer=regularizers.l2(0.01)))\n",
    "model.add(Dropout(0.25))\n",
    "model.add(Dense(128, activation='relu', kernel_regularizer=regularizers.l2(0.01)))\n",
    "model.add(Dense(2, activation='sigmoid'))"
   ]
  },
  {
   "cell_type": "code",
   "execution_count": 14,
   "id": "cf25cf01",
   "metadata": {},
   "outputs": [],
   "source": [
    "optimizer = tf.keras.optimizers.legacy.Adam()\n",
    "model.compile(optimizer=optimizer, loss='binary_crossentropy', metrics=['accuracy'])\n",
    "early_stopping = EarlyStopping(monitor='val_loss', patience=5, restore_best_weights=True)"
   ]
  },
  {
   "cell_type": "code",
   "execution_count": 15,
   "id": "13d21307",
   "metadata": {},
   "outputs": [
    {
     "name": "stdout",
     "output_type": "stream",
     "text": [
      "Model: \"sequential_1\"\n",
      "_________________________________________________________________\n",
      " Layer (type)                Output Shape              Param #   \n",
      "=================================================================\n",
      " conv2d_4 (Conv2D)           (None, 222, 222, 32)      896       \n",
      "                                                                 \n",
      " max_pooling2d_4 (MaxPoolin  (None, 111, 111, 32)      0         \n",
      " g2D)                                                            \n",
      "                                                                 \n",
      " batch_normalization_4 (Bat  (None, 111, 111, 32)      128       \n",
      " chNormalization)                                                \n",
      "                                                                 \n",
      " conv2d_5 (Conv2D)           (None, 109, 109, 64)      18496     \n",
      "                                                                 \n",
      " max_pooling2d_5 (MaxPoolin  (None, 54, 54, 64)        0         \n",
      " g2D)                                                            \n",
      "                                                                 \n",
      " batch_normalization_5 (Bat  (None, 54, 54, 64)        256       \n",
      " chNormalization)                                                \n",
      "                                                                 \n",
      " conv2d_6 (Conv2D)           (None, 52, 52, 128)       73856     \n",
      "                                                                 \n",
      " max_pooling2d_6 (MaxPoolin  (None, 26, 26, 128)       0         \n",
      " g2D)                                                            \n",
      "                                                                 \n",
      " batch_normalization_6 (Bat  (None, 26, 26, 128)       512       \n",
      " chNormalization)                                                \n",
      "                                                                 \n",
      " conv2d_7 (Conv2D)           (None, 24, 24, 256)       295168    \n",
      "                                                                 \n",
      " max_pooling2d_7 (MaxPoolin  (None, 12, 12, 256)       0         \n",
      " g2D)                                                            \n",
      "                                                                 \n",
      " batch_normalization_7 (Bat  (None, 12, 12, 256)       1024      \n",
      " chNormalization)                                                \n",
      "                                                                 \n",
      " flatten_1 (Flatten)         (None, 36864)             0         \n",
      "                                                                 \n",
      " dense_3 (Dense)             (None, 256)               9437440   \n",
      "                                                                 \n",
      " dropout_1 (Dropout)         (None, 256)               0         \n",
      "                                                                 \n",
      " dense_4 (Dense)             (None, 128)               32896     \n",
      "                                                                 \n",
      " dense_5 (Dense)             (None, 2)                 258       \n",
      "                                                                 \n",
      "=================================================================\n",
      "Total params: 9860930 (37.62 MB)\n",
      "Trainable params: 9859970 (37.61 MB)\n",
      "Non-trainable params: 960 (3.75 KB)\n",
      "_________________________________________________________________\n"
     ]
    }
   ],
   "source": [
    "model.summary()"
   ]
  },
  {
   "cell_type": "code",
   "execution_count": 17,
   "id": "ac6f0fae",
   "metadata": {},
   "outputs": [
    {
     "name": "stdout",
     "output_type": "stream",
     "text": [
      "Epoch 1/30\n",
      "52/52 [==============================] - 74s 1s/step - loss: 7.6430 - accuracy: 0.7561 - val_loss: 6.4446 - val_accuracy: 0.5000\n",
      "Epoch 2/30\n",
      "52/52 [==============================] - 60s 1s/step - loss: 4.7435 - accuracy: 0.7992 - val_loss: 4.2107 - val_accuracy: 0.5000\n",
      "Epoch 3/30\n",
      "52/52 [==============================] - 57s 1s/step - loss: 3.1356 - accuracy: 0.8210 - val_loss: 3.3223 - val_accuracy: 0.5048\n",
      "Epoch 4/30\n",
      "52/52 [==============================] - 51s 982ms/step - loss: 2.6513 - accuracy: 0.8380 - val_loss: 3.0002 - val_accuracy: 0.5048\n",
      "Epoch 5/30\n",
      "52/52 [==============================] - 54s 1s/step - loss: 2.2243 - accuracy: 0.8483 - val_loss: 2.2639 - val_accuracy: 0.6190\n",
      "Epoch 6/30\n",
      "52/52 [==============================] - 55s 1s/step - loss: 2.0132 - accuracy: 0.8441 - val_loss: 1.9966 - val_accuracy: 0.7952\n",
      "Epoch 7/30\n",
      "52/52 [==============================] - 56s 1s/step - loss: 1.7011 - accuracy: 0.8726 - val_loss: 1.6381 - val_accuracy: 0.7952\n",
      "Epoch 8/30\n",
      "52/52 [==============================] - 54s 1s/step - loss: 1.5133 - accuracy: 0.8762 - val_loss: 1.4653 - val_accuracy: 0.8381\n",
      "Epoch 9/30\n",
      "52/52 [==============================] - 52s 997ms/step - loss: 1.3717 - accuracy: 0.8841 - val_loss: 1.2157 - val_accuracy: 0.9143\n",
      "Epoch 10/30\n",
      "52/52 [==============================] - 54s 1s/step - loss: 1.1762 - accuracy: 0.8993 - val_loss: 1.1810 - val_accuracy: 0.8571\n",
      "Epoch 11/30\n",
      "52/52 [==============================] - 54s 1s/step - loss: 1.0874 - accuracy: 0.8908 - val_loss: 1.1696 - val_accuracy: 0.8048\n",
      "Epoch 12/30\n",
      "52/52 [==============================] - 55s 1s/step - loss: 1.0314 - accuracy: 0.8950 - val_loss: 1.0199 - val_accuracy: 0.8476\n",
      "Epoch 13/30\n",
      "52/52 [==============================] - 52s 987ms/step - loss: 0.9730 - accuracy: 0.8890 - val_loss: 0.9438 - val_accuracy: 0.9000\n",
      "Epoch 14/30\n",
      "52/52 [==============================] - 51s 984ms/step - loss: 0.9022 - accuracy: 0.8987 - val_loss: 0.9249 - val_accuracy: 0.8619\n",
      "Epoch 15/30\n",
      "52/52 [==============================] - 76s 1s/step - loss: 0.8510 - accuracy: 0.8896 - val_loss: 0.7749 - val_accuracy: 0.8619\n",
      "Epoch 16/30\n",
      "52/52 [==============================] - 78s 1s/step - loss: 0.7986 - accuracy: 0.8981 - val_loss: 0.7572 - val_accuracy: 0.8952\n",
      "Epoch 17/30\n",
      "52/52 [==============================] - 76s 1s/step - loss: 0.7417 - accuracy: 0.8987 - val_loss: 0.7168 - val_accuracy: 0.9048\n",
      "Epoch 18/30\n",
      "52/52 [==============================] - 77s 1s/step - loss: 0.7401 - accuracy: 0.8944 - val_loss: 0.7610 - val_accuracy: 0.8619\n",
      "Epoch 19/30\n",
      "52/52 [==============================] - 77s 1s/step - loss: 0.6532 - accuracy: 0.9102 - val_loss: 0.5791 - val_accuracy: 0.9143\n",
      "Epoch 20/30\n",
      "52/52 [==============================] - 76s 1s/step - loss: 0.6254 - accuracy: 0.9163 - val_loss: 0.6236 - val_accuracy: 0.9000\n",
      "Epoch 21/30\n",
      "52/52 [==============================] - 77s 1s/step - loss: 0.6274 - accuracy: 0.8920 - val_loss: 0.6345 - val_accuracy: 0.9048\n",
      "Epoch 22/30\n",
      "52/52 [==============================] - 76s 1s/step - loss: 0.5954 - accuracy: 0.9108 - val_loss: 0.5910 - val_accuracy: 0.8810\n",
      "Epoch 23/30\n",
      "52/52 [==============================] - 76s 1s/step - loss: 0.5680 - accuracy: 0.9023 - val_loss: 0.5566 - val_accuracy: 0.9238\n",
      "Epoch 24/30\n",
      "52/52 [==============================] - 50s 939ms/step - loss: 0.5996 - accuracy: 0.9047 - val_loss: 0.5282 - val_accuracy: 0.9048\n",
      "Epoch 25/30\n",
      "52/52 [==============================] - 51s 976ms/step - loss: 0.5438 - accuracy: 0.9059 - val_loss: 0.5120 - val_accuracy: 0.9095\n",
      "Epoch 26/30\n",
      "52/52 [==============================] - 49s 928ms/step - loss: 0.5175 - accuracy: 0.9090 - val_loss: 0.5435 - val_accuracy: 0.8571\n",
      "Epoch 27/30\n",
      "52/52 [==============================] - 49s 941ms/step - loss: 0.5213 - accuracy: 0.9078 - val_loss: 0.4404 - val_accuracy: 0.9286\n",
      "Epoch 28/30\n",
      "52/52 [==============================] - 49s 938ms/step - loss: 0.4848 - accuracy: 0.9126 - val_loss: 0.4794 - val_accuracy: 0.8762\n",
      "Epoch 29/30\n",
      "52/52 [==============================] - 49s 943ms/step - loss: 0.4754 - accuracy: 0.9138 - val_loss: 0.4523 - val_accuracy: 0.9190\n",
      "Epoch 30/30\n",
      "52/52 [==============================] - 50s 961ms/step - loss: 0.4714 - accuracy: 0.9120 - val_loss: 0.4219 - val_accuracy: 0.9238\n"
     ]
    }
   ],
   "source": [
    "history = model.fit(\n",
    "    train_generator,\n",
    "    steps_per_epoch=int(round(1680/32)),\n",
    "    epochs=30,\n",
    "    validation_data=validation_generator,\n",
    "    validation_steps=int(round(210/32))\n",
    ")"
   ]
  },
  {
   "cell_type": "code",
   "execution_count": 18,
   "id": "4ffc2dbc",
   "metadata": {},
   "outputs": [
    {
     "name": "stderr",
     "output_type": "stream",
     "text": [
      "C:\\Users\\prath\\AppData\\Local\\Temp\\ipykernel_49248\\3755841181.py:3: UserWarning: You are saving your model as an HDF5 file via `model.save()`. This file format is considered legacy. We recommend using instead the native Keras format, e.g. `model.save('my_model.keras')`.\n",
      "  save_model(model,model_path)\n"
     ]
    }
   ],
   "source": [
    "from tensorflow.keras.models import save_model\n",
    "model_path='D:/Project/ML/Keratoconus_detection1.h5'\n",
    "save_model(model,model_path)"
   ]
  },
  {
   "cell_type": "code",
   "execution_count": 19,
   "id": "b88eaaff",
   "metadata": {},
   "outputs": [
    {
     "ename": "TypeError",
     "evalue": "'str' object is not callable",
     "output_type": "error",
     "traceback": [
      "\u001b[1;31m---------------------------------------------------------------------------\u001b[0m",
      "\u001b[1;31mTypeError\u001b[0m                                 Traceback (most recent call last)",
      "Cell \u001b[1;32mIn[19], line 13\u001b[0m\n\u001b[0;32m     10\u001b[0m     plt\u001b[38;5;241m.\u001b[39mlegend([\u001b[38;5;124m'\u001b[39m\u001b[38;5;124mtrain\u001b[39m\u001b[38;5;124m'\u001b[39m, \u001b[38;5;124m'\u001b[39m\u001b[38;5;124mvalidation\u001b[39m\u001b[38;5;124m'\u001b[39m], loc\u001b[38;5;241m=\u001b[39m\u001b[38;5;124m'\u001b[39m\u001b[38;5;124mupper left\u001b[39m\u001b[38;5;124m'\u001b[39m)\n\u001b[0;32m     12\u001b[0m     plt\u001b[38;5;241m.\u001b[39mshow()\n\u001b[1;32m---> 13\u001b[0m plot_train_history(history)\n",
      "Cell \u001b[1;32mIn[19], line 9\u001b[0m, in \u001b[0;36mplot_train_history\u001b[1;34m(history)\u001b[0m\n\u001b[0;32m      7\u001b[0m plt\u001b[38;5;241m.\u001b[39mtitle(\u001b[38;5;124m'\u001b[39m\u001b[38;5;124mModel accuracy\u001b[39m\u001b[38;5;124m'\u001b[39m)\n\u001b[0;32m      8\u001b[0m plt\u001b[38;5;241m.\u001b[39mylabel(\u001b[38;5;124m'\u001b[39m\u001b[38;5;124maccuracy\u001b[39m\u001b[38;5;124m'\u001b[39m)\n\u001b[1;32m----> 9\u001b[0m plt\u001b[38;5;241m.\u001b[39mxlabel(\u001b[38;5;124m'\u001b[39m\u001b[38;5;124mepoch\u001b[39m\u001b[38;5;124m'\u001b[39m)\n\u001b[0;32m     10\u001b[0m plt\u001b[38;5;241m.\u001b[39mlegend([\u001b[38;5;124m'\u001b[39m\u001b[38;5;124mtrain\u001b[39m\u001b[38;5;124m'\u001b[39m, \u001b[38;5;124m'\u001b[39m\u001b[38;5;124mvalidation\u001b[39m\u001b[38;5;124m'\u001b[39m], loc\u001b[38;5;241m=\u001b[39m\u001b[38;5;124m'\u001b[39m\u001b[38;5;124mupper left\u001b[39m\u001b[38;5;124m'\u001b[39m)\n\u001b[0;32m     12\u001b[0m plt\u001b[38;5;241m.\u001b[39mshow()\n",
      "\u001b[1;31mTypeError\u001b[0m: 'str' object is not callable"
     ]
    },
    {
     "data": {
      "image/png": "[encoded data removed]",
      "text/plain": [
       "<Figure size 1200x400 with 1 Axes>"
      ]
     },
     "metadata": {},
     "output_type": "display_data"
    }
   ],
   "source": [
    "def plot_train_history(history):\n",
    "    plt.figure(figsize=(12,4))\n",
    "    \n",
    "    plt.subplot(1,2,1)\n",
    "    plt.plot(history.history['accuracy'])\n",
    "    plt.plot(history.history['val_accuracy'])\n",
    "    plt.title('Model accuracy')\n",
    "    plt.ylabel('accuracy')\n",
    "    plt.xlabel('epoch')\n",
    "    plt.legend(['train', 'validation'], loc='upper left')\n",
    "    \n",
    "    plt.show()\n",
    "plot_train_history(history)"
   ]
  },
  {
   "cell_type": "code",
   "execution_count": 20,
   "id": "3b3d4212",
   "metadata": {},
   "outputs": [
    {
     "name": "stdout",
     "output_type": "stream",
     "text": [
      "Keratoconus Detection Model Loaded\n"
     ]
    }
   ],
   "source": [
    "from tensorflow.keras.preprocessing.image import img_to_array, load_img\n",
    "from tensorflow.keras.models import load_model\n",
    "import numpy as np\n",
    "loaded_model=load_model('D:/Project/ML/Keratoconus_detection1.h5')\n",
    "print(\"Keratoconus Detection Model Loaded\")\n",
    "def keratoconus_prediction(test_image_path):\n",
    "    test_image = load_img(test_image_path, target_size=(224, 224))\n",
    "    test_image = img_to_array(test_image)\n",
    "    test_image = np.expand_dims(test_image, axis=0)\n",
    "\n",
    "    predictions = loaded_model.predict(test_image)\n",
    "\n",
    "    # Assuming the model outputs a single prediction value (0 or 1) directly\n",
    "    predicted_class = np.argmax(predictions[0])\n",
    "    \n",
    "    if predicted_class == 1:\n",
    "        print(\"Normal\")\n",
    "    elif predicted_class==0:\n",
    "        print(\"Keratoconus\")\n",
    "    \n",
    "    return predicted_class"
   ]
  },
  {
   "cell_type": "code",
   "execution_count": 21,
   "id": "2c1444d4",
   "metadata": {},
   "outputs": [
    {
     "name": "stdout",
     "output_type": "stream",
     "text": [
      "7/7 [==============================] - 3s 459ms/step - loss: 0.4611 - accuracy: 0.9048\n",
      "Validation Accuracy: 0.9047619104385376\n"
     ]
    }
   ],
   "source": [
    "evaluation = model.evaluate(test_generator)\n",
    "accuracy = evaluation[1]\n",
    "print(f\"Validation Accuracy: {accuracy}\")"
   ]
  },
  {
   "cell_type": "code",
   "execution_count": null,
   "id": "78a6c5d4",
   "metadata": {},
   "outputs": [],
   "source": []
  }
 ],
 "metadata": {
  "kernelspec": {
   "display_name": "Python 3 (ipykernel)",
   "language": "python",
   "name": "python3"
  },
  "language_info": {
   "codemirror_mode": {
    "name": "ipython",
    "version": 3
   },
   "file_extension": ".py",
   "mimetype": "text/x-python",
   "name": "python",
   "nbconvert_exporter": "python",
   "pygments_lexer": "ipython3",
   "version": "3.11.5"
  }
 },
 "nbformat": 4,
 "nbformat_minor": 5
}
